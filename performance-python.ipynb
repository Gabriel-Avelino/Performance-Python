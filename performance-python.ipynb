{
 "cells": [
  {
   "cell_type": "code",
   "execution_count": 61,
   "id": "b7b371a3",
   "metadata": {},
   "outputs": [],
   "source": [
    "x = range(100000)\n",
    "y = range(100000)"
   ]
  },
  {
   "cell_type": "code",
   "execution_count": 62,
   "id": "b0862d03",
   "metadata": {},
   "outputs": [],
   "source": [
    "def loop(arr1, arr2):\n",
    "    sum = 0\n",
    "    for i, v in enumerate(arr1):\n",
    "        sum += v * arr2[i]\n",
    "    \n",
    "    return sum"
   ]
  },
  {
   "cell_type": "code",
   "execution_count": 63,
   "id": "742de33e",
   "metadata": {},
   "outputs": [
    {
     "name": "stdout",
     "output_type": "stream",
     "text": [
      "333328333350000\n"
     ]
    }
   ],
   "source": [
    "print(loop(x,y))"
   ]
  },
  {
   "cell_type": "code",
   "execution_count": 64,
   "id": "f4c5af82",
   "metadata": {},
   "outputs": [
    {
     "name": "stdout",
     "output_type": "stream",
     "text": [
      "20.3 ms ± 676 µs per loop (mean ± std. dev. of 7 runs, 10 loops each)\n"
     ]
    }
   ],
   "source": [
    "%timeit loop(x, y)  # Verifica o tempo de execução"
   ]
  },
  {
   "cell_type": "code",
   "execution_count": 65,
   "id": "d5cd0552",
   "metadata": {},
   "outputs": [
    {
     "name": "stdout",
     "output_type": "stream",
     "text": [
      "96.4 µs ± 2.35 µs per loop (mean ± std. dev. of 7 runs, 10,000 loops each)\n"
     ]
    }
   ],
   "source": [
    "import numpy as np\n",
    "x1 = np.array(range(100000))\n",
    "x2 = np.array(range(100000))\n",
    "\n",
    "x1 @ x2.T\n",
    "\n",
    "%timeit x1 @ x2.T  # Álgebra Linear"
   ]
  },
  {
   "cell_type": "code",
   "execution_count": 66,
   "id": "7bdca1b8",
   "metadata": {},
   "outputs": [
    {
     "name": "stderr",
     "output_type": "stream",
     "text": [
      "/Users/lk/anaconda3/lib/python3.11/site-packages/numba/core/typed_passes.py:334: NumbaPerformanceWarning: \u001b[1m\n",
      "The keyword argument 'parallel=True' was specified but no transformation for parallel execution was possible.\n",
      "\n",
      "To find out why, try turning on parallel diagnostics, see https://numba.readthedocs.io/en/stable/user/parallel.html#diagnostics for help.\n",
      "\u001b[1m\n",
      "File \"../../../../var/folders/kz/wzxfv03s0lz0x_0wt3ndl1d40000gn/T/ipykernel_11443/1257621492.py\", line 5:\u001b[0m\n",
      "\u001b[1m<source missing, REPL/exec in use?>\u001b[0m\n",
      "\u001b[0m\n",
      "  warnings.warn(errors.NumbaPerformanceWarning(msg,\n"
     ]
    },
    {
     "name": "stdout",
     "output_type": "stream",
     "text": [
      "43.8 µs ± 2.72 µs per loop (mean ± std. dev. of 7 runs, 10,000 loops each)\n"
     ]
    }
   ],
   "source": [
    "# Compliação em tempo de execução\n",
    "import numba\n",
    "from numba import jit\n",
    "\n",
    "@jit(nopython=True, parallel=True)  # Não é possível usar paralelismo por ser uma multiplicação de matrizes.\n",
    "def matriz_numba_parallel(arr1, arr2):\n",
    "    return arr1 @ arr2.T\n",
    "\n",
    "x1 = np.array(range(100000), dtype=float)\n",
    "x2 = np.array(range(100000), dtype=float)\n",
    "\n",
    "%timeit matriz_numba_parallel(x1, x2)  # Compilação em tempo de execução"
   ]
  }
 ],
 "metadata": {
  "kernelspec": {
   "display_name": "Python 3 (ipykernel)",
   "language": "python",
   "name": "python3"
  },
  "language_info": {
   "codemirror_mode": {
    "name": "ipython",
    "version": 3
   },
   "file_extension": ".py",
   "mimetype": "text/x-python",
   "name": "python",
   "nbconvert_exporter": "python",
   "pygments_lexer": "ipython3",
   "version": "3.11.4"
  }
 },
 "nbformat": 4,
 "nbformat_minor": 5
}
